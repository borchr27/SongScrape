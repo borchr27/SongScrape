{
 "cells": [
  {
   "cell_type": "code",
   "execution_count": 4,
   "metadata": {},
   "outputs": [],
   "source": [
    "from datetime import date\n",
    "import time\n",
    "from selenium import webdriver\n",
    "from selenium.webdriver.support.ui import WebDriverWait\n",
    "from selenium.webdriver.support import expected_conditions as EC\n",
    "from selenium.webdriver.common.by import By\n",
    "from selenium.common.exceptions import TimeoutException\n",
    "import pandas as pd\n",
    "import requests \n",
    "from bs4 import BeautifulSoup\n",
    "import re\n",
    "from CreateSongData import CreateSongData\n",
    "from FindCharLoc import FindCharLoc\n",
    "\n",
    "class WebsiteScraper:\n",
    "    \"\"\" \n",
    "    Invokes a chrome browser and using selenium creates the soup object\n",
    "    then searches soup for the 'label-wrapper' to find all the data for chords\n",
    "    then iterates thru that data and scrubs it with the CreateSongData class\n",
    "    so we are left with just the raw chord, then code outputs this to an excel\n",
    "    \"\"\"\n",
    "    def __init__(self, chordifyUrl):\n",
    "        self.chordifyUrl = chordifyUrl\n",
    "        self.soup = None\n",
    "\n",
    "    def website_scraper(self):\n",
    "        browser = webdriver.Chrome()\n",
    "        browser.get(self.chordifyUrl)\n",
    "        time.sleep(3)\n",
    "        html = browser.page_source\n",
    "        self.soup = BeautifulSoup(html, 'lxml')\n",
    "\n",
    "        chords = self.soup.find_all(class_='label-wrapper')\n",
    "        \n",
    "        data = []\n",
    "        for chord in chords:\n",
    "            chord_data = CreateSongData(str(chord))\n",
    "            data.append(chord_data.get_chord())\n",
    "\n",
    "        df = pd.DataFrame(data, columns=['Chords']).dropna()\n",
    "        df.to_excel('chords.xlsx')\n",
    "        browser.close()\n",
    "\n",
    "    def youtube_link(self):\n",
    "        # [<a href=\"https://www.youtube.com/watch?v=LKrnR3aJKQA\" rel=\"nofollow\" target=\"_blank\">Explainer Video</a>]\n",
    "        fcl = FindCharLoc()\n",
    "        tag = self.soup.find_all('div', attrs = {'data-stream': re.compile('https://www.youtube.com/')} )\n",
    "        \n",
    "        #tag = requests.get(self.soup.find('iframe'))\n",
    "        #tag = self.soup.find_all('a', attrs = {'href': re.compile('^https://www.youtube.com')} )\n",
    "        quote_array = fcl.find_char_loc(str(tag[0]), '\"')\n",
    "        start_snip = quote_array[8]\n",
    "        end_snip = quote_array[9]\n",
    "        tag = str(tag[0])\n",
    "        tag = tag[start_snip+1:end_snip]\n",
    "        return tag"
   ]
  },
  {
   "cell_type": "code",
   "execution_count": 5,
   "metadata": {},
   "outputs": [
    {
     "name": "stdout",
     "output_type": "stream",
     "text": [
      "[]\n",
      "https://www.youtube.com/watch?v=Yc71vDIJdJw\n"
     ]
    },
    {
     "data": {
      "text/plain": [
       "'https://www.youtube.com/watch?v=Yc71vDIJdJw'"
      ]
     },
     "execution_count": 5,
     "metadata": {},
     "output_type": "execute_result"
    }
   ],
   "source": [
    "get_song = WebsiteScraper('https://chordify.net/chords/handmade-moments-all-i-wanted-kvnf-field-sessions')\n",
    "get_song.website_scraper()\n",
    "get_song.youtube_link()"
   ]
  },
  {
   "cell_type": "code",
   "execution_count": null,
   "metadata": {},
   "outputs": [],
   "source": []
  },
  {
   "cell_type": "code",
   "execution_count": null,
   "metadata": {},
   "outputs": [],
   "source": []
  }
 ],
 "metadata": {
  "kernelspec": {
   "display_name": "Python 3",
   "language": "python",
   "name": "python3"
  },
  "language_info": {
   "codemirror_mode": {
    "name": "ipython",
    "version": 3
   },
   "file_extension": ".py",
   "mimetype": "text/x-python",
   "name": "python",
   "nbconvert_exporter": "python",
   "pygments_lexer": "ipython3",
   "version": "3.7.3"
  }
 },
 "nbformat": 4,
 "nbformat_minor": 2
}
